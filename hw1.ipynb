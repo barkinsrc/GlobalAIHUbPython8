{
 "cells": [
  {
   "cell_type": "code",
   "execution_count": 6,
   "metadata": {},
   "outputs": [
    {
     "name": "stdout",
     "output_type": "stream",
     "text": [
      "Please enter the first value: 4\n",
      "Please enter the second value: aa\n",
      "Please enter the 3rd value: 54\n",
      "Please enter the 4th value: 5.12\n",
      "Please enter the 5th value: er\n",
      "1st = 4\n",
      "2nd = aa\n",
      "3rd = 54\n",
      "4td = 5.12\n",
      "5th = er\n"
     ]
    }
   ],
   "source": [
    "x = int(input(\"Please enter the first value: \"))\n",
    "\n",
    "y = input(\"Please enter the second value: \")\n",
    "\n",
    "z = input(\"Please enter the 3rd value: \")\n",
    "\n",
    "a = float(input(\"Please enter the 4th value: \"))\n",
    "\n",
    "b = str(input(\"Please enter the 5th value: \"))\n",
    "\n",
    "print(\"1st = {}\".format(x))\n",
    "print(\"2nd = {}\".format(y))\n",
    "print(\"3rd = {}\".format(z))\n",
    "print(\"4td = {}\".format(a))\n",
    "print(\"5th = {}\".format(b))\n",
    "\n",
    "\n",
    "\n"
   ]
  },
  {
   "cell_type": "code",
   "execution_count": 7,
   "metadata": {},
   "outputs": [
    {
     "data": {
      "text/plain": [
       "int"
      ]
     },
     "execution_count": 7,
     "metadata": {},
     "output_type": "execute_result"
    }
   ],
   "source": [
    "type(x)"
   ]
  },
  {
   "cell_type": "code",
   "execution_count": 8,
   "metadata": {},
   "outputs": [
    {
     "data": {
      "text/plain": [
       "str"
      ]
     },
     "execution_count": 8,
     "metadata": {},
     "output_type": "execute_result"
    }
   ],
   "source": [
    "type(y)"
   ]
  },
  {
   "cell_type": "code",
   "execution_count": 9,
   "metadata": {},
   "outputs": [
    {
     "data": {
      "text/plain": [
       "str"
      ]
     },
     "execution_count": 9,
     "metadata": {},
     "output_type": "execute_result"
    }
   ],
   "source": [
    "type(z)"
   ]
  },
  {
   "cell_type": "code",
   "execution_count": 10,
   "metadata": {},
   "outputs": [
    {
     "data": {
      "text/plain": [
       "float"
      ]
     },
     "execution_count": 10,
     "metadata": {},
     "output_type": "execute_result"
    }
   ],
   "source": [
    "type(a)"
   ]
  },
  {
   "cell_type": "code",
   "execution_count": 11,
   "metadata": {},
   "outputs": [
    {
     "data": {
      "text/plain": [
       "str"
      ]
     },
     "execution_count": 11,
     "metadata": {},
     "output_type": "execute_result"
    }
   ],
   "source": [
    "type(b)"
   ]
  }
 ],
 "metadata": {
  "kernelspec": {
   "display_name": "Python 3",
   "language": "python",
   "name": "python3"
  },
  "language_info": {
   "codemirror_mode": {
    "name": "ipython",
    "version": 3
   },
   "file_extension": ".py",
   "mimetype": "text/x-python",
   "name": "python",
   "nbconvert_exporter": "python",
   "pygments_lexer": "ipython3",
   "version": "3.7.1"
  }
 },
 "nbformat": 4,
 "nbformat_minor": 2
}
